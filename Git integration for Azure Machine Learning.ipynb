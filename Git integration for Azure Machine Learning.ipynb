{
  "cells": [
    {
      "cell_type": "markdown",
      "source": [
        "# Git integration for Azure Machine Learning #\n",
        "\n",
        "###\n",
        "This tutorial will guide users to \n",
        "\n",
        "1. set up git access \n",
        "\n",
        "2. git clone repositories\n",
        "\n",
        "3. provide useful resources related to GIT version control\n",
        "\n",
        "###"
      ],
      "metadata": {
        "nteract": {
          "transient": {
            "deleting": false
          }
        }
      }
    },
    {
      "cell_type": "markdown",
      "source": [
        "## Set up GIT Access ## \n",
        "-----------------------\n"
      ],
      "metadata": {
        "nteract": {
          "transient": {
            "deleting": false
          }
        }
      }
    },
    {
      "cell_type": "markdown",
      "source": [
        "### 1. Generate new SSH under specific directory ###"
      ],
      "metadata": {
        "nteract": {
          "transient": {
            "deleting": false
          }
        }
      }
    },
    {
      "cell_type": "markdown",
      "source": [
        "###### 1. Open the terminal window in the Azure Machine Learning Notebook Tab. (right click to next to destination of user's folder to show the following  options)#######\n",
        "![Access to Terminal](./images/open_terminal.png)  "
      ],
      "metadata": {
        "nteract": {
          "transient": {
            "deleting": false
          }
        }
      }
    },
    {
      "cell_type": "markdown",
      "source": [
        "###### 2. This step generate a new SSH key using user's provided email as label. #####"
      ],
      "metadata": {
        "nteract": {
          "transient": {
            "deleting": false
          }
        }
      }
    },
    {
      "cell_type": "markdown",
      "source": [
        "\n",
        "###### Paste the text below into the terminal, substituting in your GitHub email address. ######  \n",
        "   \n",
        "```\n",
        "$ ssh-keygen -t ed25519 -C \"your_email@example.com\" \n",
        "```\n",
        "\n",
        "###### This creates a new SSH key, using the provided email as a label. ###### \n",
        "    \n",
        "```\n",
        "> Generating public/private ALGORITHM key pair.\n",
        "```\n",
        "    \n",
        "When you're prompted to \"Enter a file in which to save the key\", you must specify the file location to save under '/home/azureuser/.ssh/id_rsa_<your_filename>' and replace with your desire filename. Make sure to save SSH key under '/home/azureu`ser/.ssh' and do not save under other location because keys saved at other directory may get deleted after restarting the compute instance. \n",
        "\n",
        "``` \n",
        "> Enter a file in which to save the key (/home/azureuser/.ssh/id_rsa): /home/azureuser/.ssh/id_rsa_<your_filename>\n",
        "```\n",
        "\n",
        "At the prompt, type a secure passphrase. We recommend you add a passphrase to your SSH key for added security\n",
        "\n",
        "\n",
        "```  \n",
        "> Enter passphrase (empty for no passphrase): [Type a passphrase]\n",
        "> Enter same passphrase again: [Type passphrase again]\n",
        "```\n"
      ],
      "metadata": {
        "nteract": {
          "transient": {
            "deleting": false
          }
        }
      }
    },
    {
      "cell_type": "markdown",
      "source": [
        "### 2. Adding your SSH key to the ssh-agent ###"
      ],
      "metadata": {
        "nteract": {
          "transient": {
            "deleting": false
          }
        }
      }
    },
    {
      "cell_type": "markdown",
      "source": [
        "###### In order to properly connect Azure with Github, user must add the path of the generated private key to Azure ssh-agent. ###### \n",
        "See command below and replace with specific filename.\n",
        "```\n",
        "$ ssh-add /home/azureuser/.ssh/id_rsa_<your_filename>\n",
        "```"
      ],
      "metadata": {
        "nteract": {
          "transient": {
            "deleting": false
          }
        }
      }
    },
    {
      "cell_type": "markdown",
      "source": [
        "###  3. Add the public key to Git Account ###"
      ],
      "metadata": {
        "nteract": {
          "transient": {
            "deleting": false
          }
        }
      }
    },
    {
      "cell_type": "markdown",
      "source": [
        "Add the public SSH key to your account on GitHub.\n",
        "\n",
        "1. Copy the SSH public key from Azure ML terminal to clipboard \n",
        "```\n",
        "$ cat /home/azureuser/.ssh/id_rsa_<your_filename>.pub\n",
        "  # Then select and copy the contents of the id_rsa_<your_filename>.pub file\n",
        "  # displayed in the terminal to your clipboard\n",
        "```\n",
        "\n",
        "2. Paste the SSH public key to Github repositories. \n",
        "  Follow the tutorial from \n",
        "  reference: https://docs.github.com/en/authentication/connecting-to-github-with-ssh/adding-a-new-ssh-key-to-your-github-account"
      ],
      "metadata": {
        "nteract": {
          "transient": {
            "deleting": false
          }
        }
      }
    },
    {
      "cell_type": "markdown",
      "source": [
        "### References: ###\n",
        "\n",
        "1. https://learn.microsoft.com/en-us/azure/machine-learning/concept-train-model-git-integration?view=azureml-api-2&tabs=python\n",
        "\n",
        "2. https://docs.github.com/en/authentication/connecting-to-github-with-ssh/adding-a-new-ssh-key-to-your-github-account"
      ],
      "metadata": {
        "nteract": {
          "transient": {
            "deleting": false
          }
        }
      }
    },
    {
      "cell_type": "markdown",
      "source": [
        "## Clone Repositories with SSH ## \n",
        "----------------------- \n"
      ],
      "metadata": {
        "nteract": {
          "transient": {
            "deleting": false
          }
        }
      }
    },
    {
      "cell_type": "markdown",
      "source": [
        "###### 1. Copy SSH Git clone URL from the Git repository. ######"
      ],
      "metadata": {
        "nteract": {
          "transient": {
            "deleting": false
          }
        }
      }
    },
    {
      "cell_type": "markdown",
      "source": [
        "###### 2. Goto Azure terminal, change current directory to the notebook's user directory. (Be sure to replace with proper username) #####\n",
        "```\n",
        "$ cd 'Users/<username>'\n",
        "```"
      ],
      "metadata": {
        "nteract": {
          "transient": {
            "deleting": false
          }
        }
      }
    },
    {
      "cell_type": "markdown",
      "source": [
        "\n",
        "###### 3. Paste the url into terminal using command below. This will look something like:\n",
        "###### \n",
        "\n",
        "```\n",
        "git clone git@example.com:GitUser/azureml-example.git\n",
        "Cloning into 'azureml-example'...\n",
        "```\n",
        "\n",
        "SSH displays this fingerprint when it connects to an unknown host to protect you from man-in-the-middle attacks. Once you accept the host's fingerprint, SSH will not prompt you again unless the fingerprint changes.\n",
        "\n",
        "When you are asked if you want to continue connecting, type yes. Git will clone the repo and set up the origin remote to connect with SSH for future Git commands."
      ],
      "metadata": {
        "nteract": {
          "transient": {
            "deleting": false
          }
        }
      }
    },
    {
      "cell_type": "markdown",
      "source": [
        "## Git Commit Files ## "
      ],
      "metadata": {
        "nteract": {
          "transient": {
            "deleting": false
          }
        }
      }
    },
    {
      "cell_type": "markdown",
      "source": [
        "It is possible that we may run into dubious ownership in a repository. To resolve this, add the path of this repository to git config. \n",
        "\n",
        "```\n",
        "(azureml_py38) azureuser@tinacomputeinstance:~/cloudfiles/code/Users/rhuang/azure_git_tutorials$ git add -help\n",
        "\n",
        "fatal: detected dubious ownership in repository at '/mnt/batch/tasks/shared/LS_root/mounts/clusters/tinacomputeinstance/code/Users/rhuang/azure_git_tutorials'\n",
        "To add an exception for this directory, call:\n",
        "\n",
        "        git config --global --add safe.directory /mnt/batch/tasks/shared/LS_root/mounts/clusters/tinacomputeinstance/code/Users/rhuang/azure_git_tutorials\n",
        "```"
      ],
      "metadata": {
        "nteract": {
          "transient": {
            "deleting": false
          }
        }
      }
    },
    {
      "cell_type": "markdown",
      "source": [
        "## Additional GIT Resources ##\n",
        "---------------------------\n"
      ],
      "metadata": {
        "nteract": {
          "transient": {
            "deleting": false
          }
        }
      }
    },
    {
      "cell_type": "markdown",
      "source": [
        "This tutorial has covered basic commands require to integrate Azure Machine Learning with GIT. For other git commands, please reference outside GIT resources, and input desire git commands into Azure ML terminal. \n",
        "\n",
        "1. https://education.github.com/git-cheat-sheet-education.pdf\n",
        "2. https://dev.to/doabledanny/git-cheat-sheet-50-commands-free-pdf-and-poster-4gcn"
      ],
      "metadata": {
        "nteract": {
          "transient": {
            "deleting": false
          }
        }
      }
    },
    {
      "cell_type": "code",
      "source": [],
      "outputs": [],
      "execution_count": null,
      "metadata": {
        "jupyter": {
          "source_hidden": false,
          "outputs_hidden": false
        },
        "nteract": {
          "transient": {
            "deleting": false
          }
        }
      }
    }
  ],
  "metadata": {
    "kernelspec": {
      "name": "python310-sdkv2",
      "language": "python",
      "display_name": "Python 3.10 - SDK v2"
    },
    "language_info": {
      "name": "python",
      "version": "3.10.9",
      "mimetype": "text/x-python",
      "codemirror_mode": {
        "name": "ipython",
        "version": 3
      },
      "pygments_lexer": "ipython3",
      "nbconvert_exporter": "python",
      "file_extension": ".py"
    },
    "microsoft": {
      "ms_spell_check": {
        "ms_spell_check_language": "en"
      }
    },
    "kernel_info": {
      "name": "python310-sdkv2"
    },
    "nteract": {
      "version": "nteract-front-end@1.0.0"
    }
  },
  "nbformat": 4,
  "nbformat_minor": 2
}